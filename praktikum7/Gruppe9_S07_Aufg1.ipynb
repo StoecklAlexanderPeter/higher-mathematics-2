{
 "cells": [
  {
   "cell_type": "markdown",
   "metadata": {},
   "source": [
    "# Gauss-Newton-Verfahren (ohne / mit Dämpfung)\n",
    "\n",
    "#### Erstellt von F. De Lorenzi / R. Knaack, 30.03.2021 für die Vorlesung Höhere Mathematik 2 der ZHAW SoE\n",
    "\n",
    "In diesem Tutorial geht es um die Lösung der folgenden Aufgabe:\n",
    "\n",
    "Ein gedämpftes mechanisches System mit rückstellenden Kräften (z.B. ein gedämpftes Federpendel, siehe Abbildung) wird für eine Punktmasse $m$ durch die Differentialgleichung $$m\\ddot{x}+c\\dot{x}+kx=0$$ beschrieben ($c$ ist die Dämpfungskonstante, $k$ die Federkonstante der rückstellenden Kraft). Lösungen dieser DGL haben die Form $$x(t)=x_{0}\\textrm{e}^{-\\alpha t}\\sin(\\omega t+\\varphi_{0}),$$ wobei $x_{0}$ die Anfangsamplitude, $\\alpha$ die Abklingkonstante, $\\omega$ die Kreisfrequenz und $\\varphi_{0}$ den Nullphasenwinkel bezeichnet. Eine Messung ergibt nun die folgenden Werte\n",
    "\n",
    "\\begin{array}{c|cccccccccc|}\n",
    "  t \\,  [s] & 0.1 & 0.3 & 0.7 & 1.2 & 1.6 & 2.2 & 2.7 & 3.1 & 3.5 & 3.9 \\\\\\hline\n",
    "  x_i\\, [m] & 0.558 & 0.569 & 0.176 & -0.207 & -0.133 & 0.132 & 0.055 & -0.090 & -0.069 & 0.027 \\\\\n",
    "\\end{array}\n",
    "\n",
    "Arbeiten Sie diese Tutorial durch, welches Ihnen die folgenden Aufgaben einmal für das ungedämpfte Gauss-Newton und dann noch für das gedämpfte Verfahren löst. Füllen Sie die Lücken mit Ihrem eigenen Code, wo nötig.\n",
    "\n",
    "a) Berechnen Sie den ersten Schritt des (ungedämpften) Gauss-Newton Verfahrens für den Startwert $\\lambda^{(0)}=(1,2,2,1)^{T}$.\n",
    "\n",
    "b) Bestimmen Sie die 4 Parameter $x_{0},\\alpha,\\omega,\\varphi_{0}$ mit dem Gauss-Newton Verfahren (ohne Dämpfung) für den gleichen Startwert $\\lambda^{(0)}$ auf eine Genauigkeit von 1e-5. Plotten Sie die Messpunkte sowie Ihre Lösung für x(t) ins gleiche Grafikfenster.\n",
    "\n",
    "c) Lösen Sie die Aufgabe b) nochmals mit dem gedämpften Gauss-Newton Verfahren.\n",
    "\n",
    "d) Vergleichen Sie die Resultate aus b) und c) für einen anderen Startvektor $\\lambda^{(0)}=(2,2,2,2)^{T}$\n",
    "\n",
    "e) Probieren Sie die Python-Funktion scypy.optimize.fmin() (siehe [Online-Dokumentation](https://docs.scipy.org/doc/scipy/reference/generated/scipy.optimize.fmin.html), indem Sie damit direkt das Minimum des Fehlerfunktionals suchen, und vergleichen Sie mit Ihrer Lösung aus d).\n",
    "\n",
    "<img src=\"Mass_spring_damper.png\" width=300 height=300 />"
   ]
  },
  {
   "cell_type": "markdown",
   "metadata": {},
   "source": [
    "## Aufgabe a)\n",
    "Berechnen Sie den ersten Schritt des (ungedämpften) Gauss-Newton Verfahrens für den Startwert $\\lambda^{(0)}=(1,2,2,1)^{T}$."
   ]
  },
  {
   "cell_type": "code",
   "execution_count": 43,
   "metadata": {},
   "outputs": [],
   "source": [
    "import sympy as sp\n",
    "import numpy as np\n",
    "import matplotlib.pyplot as plt"
   ]
  },
  {
   "cell_type": "code",
   "execution_count": 44,
   "metadata": {},
   "outputs": [],
   "source": [
    "sp.init_printing()"
   ]
  },
  {
   "cell_type": "markdown",
   "metadata": {},
   "source": [
    "- Eingabe der Daten. Achtung: die $t$-Werte der obigen Tabelle werden hier in $x$ unbenannt, die $x$-Werte der obigen Tabelle in $y$. Wie im Skript."
   ]
  },
  {
   "cell_type": "code",
   "execution_count": 45,
   "metadata": {},
   "outputs": [],
   "source": [
    "x = np.array([0.1, 0.3, 0.7, 1.2, 1.6, 2.2, 2.7, 3.1, 3.5, 3.9], dtype=np.float64)\n",
    "y = np.array([0.558, 0.569, 0.176, -0.207, -0.133, 0.132, 0.055, -0.090, -0.069, 0.027], dtype=np.float64)"
   ]
  },
  {
   "cell_type": "markdown",
   "metadata": {},
   "source": [
    "- Definition des Anfansvektors $\\boldsymbol{\\lambda}^{(0)}=[1,2,2,1]$, der gewünschten Genauigkeit $tol$ und der symbolischen Variablen. Die symbolischen Variablen ensprechen den gesuchten Parametern $x_{0}$, $\\alpha$, $\\omega$ und $\\varphi_{0}$. Der Einfachheit halber nennen wir hier die Komponenten $p_i$ und schreiben sie in die Liste $p$, mit p[0]=$x_{0}$, p[1]=$\\alpha$, p[2]=$\\omega$ und p[3]=$\\varphi_{0}$. Achtung: der Einfachheit halber wird $\\boldsymbol{\\lambda}^{(0)}$ nicht als Spaltenvektor definiert."
   ]
  },
  {
   "cell_type": "code",
   "execution_count": 46,
   "metadata": {},
   "outputs": [
    {
     "data": {
      "image/png": "[encoded data removed]",
      "text/latex": [
       "$\\displaystyle \\left( p_{0}, \\  p_{1}, \\  p_{2}, \\  p_{3}\\right)$"
      ],
      "text/plain": [
       "(p₀, p₁, p₂, p₃)"
      ]
     },
     "execution_count": 46,
     "metadata": {},
     "output_type": "execute_result"
    }
   ],
   "source": [
    "lam0 = np.array([1, 2, 2, 1],dtype=np.float64)\n",
    "tol = 1e-5\n",
    "\n",
    "p = sp.symbols('p0 p1 p2 p3')\n",
    "# oder eleganter: \n",
    "# p = sp.symbols('p:{n:d}'.format(n=lam.size))\n",
    "p"
   ]
  },
  {
   "cell_type": "markdown",
   "metadata": {},
   "source": [
    "- Definition der Ansatzfunktion $$\\boldsymbol{f(x)}:$$"
   ]
  },
  {
   "cell_type": "code",
   "execution_count": 47,
   "metadata": {},
   "outputs": [],
   "source": [
    "def f(x,p):\n",
    "    return (p[0]*sp.exp(-p[1]*x)*sp.sin(p[2]*x+p[3]))"
   ]
  },
  {
   "cell_type": "markdown",
   "metadata": {},
   "source": [
    "- Definition der Funktion $$\\boldsymbol{g(x)=y-f(x)}:$$"
   ]
  },
  {
   "cell_type": "code",
   "execution_count": 48,
   "metadata": {},
   "outputs": [
    {
     "data": {
      "text/latex": [
       "$\\displaystyle \\left[\\begin{matrix}- p_{0} e^{- 0.1 p_{1}} \\sin{\\left(0.1 p_{2} + p_{3} \\right)} + 0.558\\\\- p_{0} e^{- 0.3 p_{1}} \\sin{\\left(0.3 p_{2} + p_{3} \\right)} + 0.569\\\\- p_{0} e^{- 0.7 p_{1}} \\sin{\\left(0.7 p_{2} + p_{3} \\right)} + 0.176\\\\- p_{0} e^{- 1.2 p_{1}} \\sin{\\left(1.2 p_{2} + p_{3} \\right)} - 0.207\\\\- p_{0} e^{- 1.6 p_{1}} \\sin{\\left(1.6 p_{2} + p_{3} \\right)} - 0.133\\\\- p_{0} e^{- 2.2 p_{1}} \\sin{\\left(2.2 p_{2} + p_{3} \\right)} + 0.132\\\\- p_{0} e^{- 2.7 p_{1}} \\sin{\\left(2.7 p_{2} + p_{3} \\right)} + 0.055\\\\- p_{0} e^{- 3.1 p_{1}} \\sin{\\left(3.1 p_{2} + p_{3} \\right)} - 0.09\\\\- p_{0} e^{- 3.5 p_{1}} \\sin{\\left(3.5 p_{2} + p_{3} \\right)} - 0.069\\\\- p_{0} e^{- 3.9 p_{1}} \\sin{\\left(3.9 p_{2} + p_{3} \\right)} + 0.027\\end{matrix}\\right]$"
      ],
      "text/plain": [
       "⎡      -0.1⋅p₁                         ⎤\n",
       "⎢- p₀⋅ℯ       ⋅sin(0.1⋅p₂ + p₃) + 0.558⎥\n",
       "⎢                                      ⎥\n",
       "⎢      -0.3⋅p₁                         ⎥\n",
       "⎢- p₀⋅ℯ       ⋅sin(0.3⋅p₂ + p₃) + 0.569⎥\n",
       "⎢                                      ⎥\n",
       "⎢      -0.7⋅p₁                         ⎥\n",
       "⎢- p₀⋅ℯ       ⋅sin(0.7⋅p₂ + p₃) + 0.176⎥\n",
       "⎢                                      ⎥\n",
       "⎢      -1.2⋅p₁                         ⎥\n",
       "⎢- p₀⋅ℯ       ⋅sin(1.2⋅p₂ + p₃) - 0.207⎥\n",
       "⎢                                      ⎥\n",
       "⎢      -1.6⋅p₁                         ⎥\n",
       "⎢- p₀⋅ℯ       ⋅sin(1.6⋅p₂ + p₃) - 0.133⎥\n",
       "⎢                                      ⎥\n",
       "⎢      -2.2⋅p₁                         ⎥\n",
       "⎢- p₀⋅ℯ       ⋅sin(2.2⋅p₂ + p₃) + 0.132⎥\n",
       "⎢                                      ⎥\n",
       "⎢      -2.7⋅p₁                         ⎥\n",
       "⎢- p₀⋅ℯ       ⋅sin(2.7⋅p₂ + p₃) + 0.055⎥\n",
       "⎢                                      ⎥\n",
       "⎢      -3.1⋅p₁                         ⎥\n",
       "⎢- p₀⋅ℯ       ⋅sin(3.1⋅p₂ + p₃) - 0.09 ⎥\n",
       "⎢                                      ⎥\n",
       "⎢      -3.5⋅p₁                         ⎥\n",
       "⎢- p₀⋅ℯ       ⋅sin(3.5⋅p₂ + p₃) - 0.069⎥\n",
       "⎢                                      ⎥\n",
       "⎢      -3.9⋅p₁                         ⎥\n",
       "⎣- p₀⋅ℯ       ⋅sin(3.9⋅p₂ + p₃) + 0.027⎦"
      ]
     },
     "execution_count": 48,
     "metadata": {},
     "output_type": "execute_result"
    }
   ],
   "source": [
    "g = sp.Matrix([y[k]-f(x[k],p) for k in range(len(x))])\n",
    "g"
   ]
  },
  {
   "cell_type": "markdown",
   "metadata": {},
   "source": [
    "- Berechnung der Jacobi-Matrix $$\\boldsymbol{Dg(x)}:$$"
   ]
  },
  {
   "cell_type": "code",
   "execution_count": 49,
   "metadata": {
    "scrolled": true
   },
   "outputs": [
    {
     "data": {
      "text/latex": [
       "$\\displaystyle \\left[\\begin{matrix}- e^{- 0.1 p_{1}} \\sin{\\left(0.1 p_{2} + p_{3} \\right)} & 0.1 p_{0} e^{- 0.1 p_{1}} \\sin{\\left(0.1 p_{2} + p_{3} \\right)} & - 0.1 p_{0} e^{- 0.1 p_{1}} \\cos{\\left(0.1 p_{2} + p_{3} \\right)} & - p_{0} e^{- 0.1 p_{1}} \\cos{\\left(0.1 p_{2} + p_{3} \\right)}\\\\- e^{- 0.3 p_{1}} \\sin{\\left(0.3 p_{2} + p_{3} \\right)} & 0.3 p_{0} e^{- 0.3 p_{1}} \\sin{\\left(0.3 p_{2} + p_{3} \\right)} & - 0.3 p_{0} e^{- 0.3 p_{1}} \\cos{\\left(0.3 p_{2} + p_{3} \\right)} & - p_{0} e^{- 0.3 p_{1}} \\cos{\\left(0.3 p_{2} + p_{3} \\right)}\\\\- e^{- 0.7 p_{1}} \\sin{\\left(0.7 p_{2} + p_{3} \\right)} & 0.7 p_{0} e^{- 0.7 p_{1}} \\sin{\\left(0.7 p_{2} + p_{3} \\right)} & - 0.7 p_{0} e^{- 0.7 p_{1}} \\cos{\\left(0.7 p_{2} + p_{3} \\right)} & - p_{0} e^{- 0.7 p_{1}} \\cos{\\left(0.7 p_{2} + p_{3} \\right)}\\\\- e^{- 1.2 p_{1}} \\sin{\\left(1.2 p_{2} + p_{3} \\right)} & 1.2 p_{0} e^{- 1.2 p_{1}} \\sin{\\left(1.2 p_{2} + p_{3} \\right)} & - 1.2 p_{0} e^{- 1.2 p_{1}} \\cos{\\left(1.2 p_{2} + p_{3} \\right)} & - p_{0} e^{- 1.2 p_{1}} \\cos{\\left(1.2 p_{2} + p_{3} \\right)}\\\\- e^{- 1.6 p_{1}} \\sin{\\left(1.6 p_{2} + p_{3} \\right)} & 1.6 p_{0} e^{- 1.6 p_{1}} \\sin{\\left(1.6 p_{2} + p_{3} \\right)} & - 1.6 p_{0} e^{- 1.6 p_{1}} \\cos{\\left(1.6 p_{2} + p_{3} \\right)} & - p_{0} e^{- 1.6 p_{1}} \\cos{\\left(1.6 p_{2} + p_{3} \\right)}\\\\- e^{- 2.2 p_{1}} \\sin{\\left(2.2 p_{2} + p_{3} \\right)} & 2.2 p_{0} e^{- 2.2 p_{1}} \\sin{\\left(2.2 p_{2} + p_{3} \\right)} & - 2.2 p_{0} e^{- 2.2 p_{1}} \\cos{\\left(2.2 p_{2} + p_{3} \\right)} & - p_{0} e^{- 2.2 p_{1}} \\cos{\\left(2.2 p_{2} + p_{3} \\right)}\\\\- e^{- 2.7 p_{1}} \\sin{\\left(2.7 p_{2} + p_{3} \\right)} & 2.7 p_{0} e^{- 2.7 p_{1}} \\sin{\\left(2.7 p_{2} + p_{3} \\right)} & - 2.7 p_{0} e^{- 2.7 p_{1}} \\cos{\\left(2.7 p_{2} + p_{3} \\right)} & - p_{0} e^{- 2.7 p_{1}} \\cos{\\left(2.7 p_{2} + p_{3} \\right)}\\\\- e^{- 3.1 p_{1}} \\sin{\\left(3.1 p_{2} + p_{3} \\right)} & 3.1 p_{0} e^{- 3.1 p_{1}} \\sin{\\left(3.1 p_{2} + p_{3} \\right)} & - 3.1 p_{0} e^{- 3.1 p_{1}} \\cos{\\left(3.1 p_{2} + p_{3} \\right)} & - p_{0} e^{- 3.1 p_{1}} \\cos{\\left(3.1 p_{2} + p_{3} \\right)}\\\\- e^{- 3.5 p_{1}} \\sin{\\left(3.5 p_{2} + p_{3} \\right)} & 3.5 p_{0} e^{- 3.5 p_{1}} \\sin{\\left(3.5 p_{2} + p_{3} \\right)} & - 3.5 p_{0} e^{- 3.5 p_{1}} \\cos{\\left(3.5 p_{2} + p_{3} \\right)} & - p_{0} e^{- 3.5 p_{1}} \\cos{\\left(3.5 p_{2} + p_{3} \\right)}\\\\- e^{- 3.9 p_{1}} \\sin{\\left(3.9 p_{2} + p_{3} \\right)} & 3.9 p_{0} e^{- 3.9 p_{1}} \\sin{\\left(3.9 p_{2} + p_{3} \\right)} & - 3.9 p_{0} e^{- 3.9 p_{1}} \\cos{\\left(3.9 p_{2} + p_{3} \\right)} & - p_{0} e^{- 3.9 p_{1}} \\cos{\\left(3.9 p_{2} + p_{3} \\right)}\\end{matrix}\\right]$"
      ],
      "text/plain": [
       "⎡  -0.1⋅p₁                           -0.1⋅p₁                            -0.1⋅p\n",
       "⎢-ℯ       ⋅sin(0.1⋅p₂ + p₃)  0.1⋅p₀⋅ℯ       ⋅sin(0.1⋅p₂ + p₃)  -0.1⋅p₀⋅ℯ      \n",
       "⎢                                                                             \n",
       "⎢  -0.3⋅p₁                           -0.3⋅p₁                            -0.3⋅p\n",
       "⎢-ℯ       ⋅sin(0.3⋅p₂ + p₃)  0.3⋅p₀⋅ℯ       ⋅sin(0.3⋅p₂ + p₃)  -0.3⋅p₀⋅ℯ      \n",
       "⎢                                                                             \n",
       "⎢  -0.7⋅p₁                           -0.7⋅p₁                            -0.7⋅p\n",
       "⎢-ℯ       ⋅sin(0.7⋅p₂ + p₃)  0.7⋅p₀⋅ℯ       ⋅sin(0.7⋅p₂ + p₃)  -0.7⋅p₀⋅ℯ      \n",
       "⎢                                                                             \n",
       "⎢  -1.2⋅p₁                           -1.2⋅p₁                            -1.2⋅p\n",
       "⎢-ℯ       ⋅sin(1.2⋅p₂ + p₃)  1.2⋅p₀⋅ℯ       ⋅sin(1.2⋅p₂ + p₃)  -1.2⋅p₀⋅ℯ      \n",
       "⎢                                                                             \n",
       "⎢  -1.6⋅p₁                           -1.6⋅p₁                            -1.6⋅p\n",
       "⎢-ℯ       ⋅sin(1.6⋅p₂ + p₃)  1.6⋅p₀⋅ℯ       ⋅sin(1.6⋅p₂ + p₃)  -1.6⋅p₀⋅ℯ      \n",
       "⎢                                                                             \n",
       "⎢  -2.2⋅p₁                           -2.2⋅p₁                            -2.2⋅p\n",
       "⎢-ℯ       ⋅sin(2.2⋅p₂ + p₃)  2.2⋅p₀⋅ℯ       ⋅sin(2.2⋅p₂ + p₃)  -2.2⋅p₀⋅ℯ      \n",
       "⎢                                                                             \n",
       "⎢  -2.7⋅p₁                           -2.7⋅p₁                            -2.7⋅p\n",
       "⎢-ℯ       ⋅sin(2.7⋅p₂ + p₃)  2.7⋅p₀⋅ℯ       ⋅sin(2.7⋅p₂ + p₃)  -2.7⋅p₀⋅ℯ      \n",
       "⎢                                                                             \n",
       "⎢  -3.1⋅p₁                           -3.1⋅p₁                            -3.1⋅p\n",
       "⎢-ℯ       ⋅sin(3.1⋅p₂ + p₃)  3.1⋅p₀⋅ℯ       ⋅sin(3.1⋅p₂ + p₃)  -3.1⋅p₀⋅ℯ      \n",
       "⎢                                                                             \n",
       "⎢  -3.5⋅p₁                           -3.5⋅p₁                            -3.5⋅p\n",
       "⎢-ℯ       ⋅sin(3.5⋅p₂ + p₃)  3.5⋅p₀⋅ℯ       ⋅sin(3.5⋅p₂ + p₃)  -3.5⋅p₀⋅ℯ      \n",
       "⎢                                                                             \n",
       "⎢  -3.9⋅p₁                           -3.9⋅p₁                            -3.9⋅p\n",
       "⎣-ℯ       ⋅sin(3.9⋅p₂ + p₃)  3.9⋅p₀⋅ℯ       ⋅sin(3.9⋅p₂ + p₃)  -3.9⋅p₀⋅ℯ      \n",
       "\n",
       "₁                        -0.1⋅p₁                 ⎤\n",
       " ⋅cos(0.1⋅p₂ + p₃)  -p₀⋅ℯ       ⋅cos(0.1⋅p₂ + p₃)⎥\n",
       "                                                 ⎥\n",
       "₁                        -0.3⋅p₁                 ⎥\n",
       " ⋅cos(0.3⋅p₂ + p₃)  -p₀⋅ℯ       ⋅cos(0.3⋅p₂ + p₃)⎥\n",
       "                                                 ⎥\n",
       "₁                        -0.7⋅p₁                 ⎥\n",
       " ⋅cos(0.7⋅p₂ + p₃)  -p₀⋅ℯ       ⋅cos(0.7⋅p₂ + p₃)⎥\n",
       "                                                 ⎥\n",
       "₁                        -1.2⋅p₁                 ⎥\n",
       " ⋅cos(1.2⋅p₂ + p₃)  -p₀⋅ℯ       ⋅cos(1.2⋅p₂ + p₃)⎥\n",
       "                                                 ⎥\n",
       "₁                        -1.6⋅p₁                 ⎥\n",
       " ⋅cos(1.6⋅p₂ + p₃)  -p₀⋅ℯ       ⋅cos(1.6⋅p₂ + p₃)⎥\n",
       "                                                 ⎥\n",
       "₁                        -2.2⋅p₁                 ⎥\n",
       " ⋅cos(2.2⋅p₂ + p₃)  -p₀⋅ℯ       ⋅cos(2.2⋅p₂ + p₃)⎥\n",
       "                                                 ⎥\n",
       "₁                        -2.7⋅p₁                 ⎥\n",
       " ⋅cos(2.7⋅p₂ + p₃)  -p₀⋅ℯ       ⋅cos(2.7⋅p₂ + p₃)⎥\n",
       "                                                 ⎥\n",
       "₁                        -3.1⋅p₁                 ⎥\n",
       " ⋅cos(3.1⋅p₂ + p₃)  -p₀⋅ℯ       ⋅cos(3.1⋅p₂ + p₃)⎥\n",
       "                                                 ⎥\n",
       "₁                        -3.5⋅p₁                 ⎥\n",
       " ⋅cos(3.5⋅p₂ + p₃)  -p₀⋅ℯ       ⋅cos(3.5⋅p₂ + p₃)⎥\n",
       "                                                 ⎥\n",
       "₁                        -3.9⋅p₁                 ⎥\n",
       " ⋅cos(3.9⋅p₂ + p₃)  -p₀⋅ℯ       ⋅cos(3.9⋅p₂ + p₃)⎦"
      ]
     },
     "execution_count": 49,
     "metadata": {},
     "output_type": "execute_result"
    }
   ],
   "source": [
    "Dg = g.jacobian(p)\n",
    "Dg"
   ]
  },
  {
   "cell_type": "markdown",
   "metadata": {},
   "source": [
    "- Umwandeln der symbolischen Grössen g und Dg in numerische Funktionen, die als Input einen Array akzeptieren. Achtung: der Input-Array $lam$ ist hier kein Spaltenvektor, der Output-Array $g(lam)$ aber schon. "
   ]
  },
  {
   "cell_type": "code",
   "execution_count": 50,
   "metadata": {},
   "outputs": [],
   "source": [
    "g = sp.lambdify([p], g, 'numpy')\n",
    "Dg = sp.lambdify([p], Dg, 'numpy')"
   ]
  },
  {
   "cell_type": "code",
   "execution_count": 51,
   "metadata": {},
   "outputs": [
    {
     "data": {
      "text/plain": [
       "array([[-0.20508906],\n",
       "       [ 0.02042238],\n",
       "       [ 0.00943283],\n",
       "       [-0.18381783],\n",
       "       [-0.09747265],\n",
       "       [ 0.14148749],\n",
       "       [ 0.0544736 ],\n",
       "       [-0.09161069],\n",
       "       [-0.06990218],\n",
       "       [ 0.02676034]])"
      ]
     },
     "execution_count": 51,
     "metadata": {},
     "output_type": "execute_result"
    }
   ],
   "source": [
    "g(lam0)"
   ]
  },
  {
   "cell_type": "code",
   "execution_count": 52,
   "metadata": {},
   "outputs": [
    {
     "data": {
      "text/plain": [
       "array([[-7.63089063e-01,  7.63089063e-02, -2.96673437e-02,\n",
       "        -2.96673437e-01],\n",
       "       [-5.48577624e-01,  1.64573287e-01,  4.80751128e-03,\n",
       "         1.60250376e-02],\n",
       "       [-1.66567170e-01,  1.16597019e-01,  1.27287336e-01,\n",
       "         1.81839051e-01],\n",
       "       [ 2.31821658e-02, -2.78185989e-02,  1.05247144e-01,\n",
       "         8.77059533e-02],\n",
       "       [ 3.55273494e-02, -5.68437591e-02,  3.19745786e-02,\n",
       "         1.99841116e-02],\n",
       "       [ 9.48749228e-03, -2.08724830e-02, -1.71431484e-02,\n",
       "        -7.79234017e-03],\n",
       "       [-5.26403918e-04,  1.42129058e-03, -1.21116602e-02,\n",
       "        -4.48580008e-03],\n",
       "       [-1.61069388e-03,  4.99315102e-03, -3.82728107e-03,\n",
       "        -1.23460680e-03],\n",
       "       [-9.02177943e-04,  3.15762280e-03,  4.64375999e-04,\n",
       "         1.32678857e-04],\n",
       "       [-2.39661034e-04,  9.34678032e-04,  1.29609940e-03,\n",
       "         3.32333179e-04]])"
      ]
     },
     "execution_count": 52,
     "metadata": {},
     "output_type": "execute_result"
    }
   ],
   "source": [
    "Dg(lam0)"
   ]
  },
  {
   "cell_type": "markdown",
   "metadata": {},
   "source": [
    "- Jetzt können wir den ersten Iterationsschritt berechnen, indem wir das lineare Gleichungssystem $$ \\textrm{ }\\boldsymbol{Dg}(\\boldsymbol{\\lambda}^{(k)})^{T}\\boldsymbol{Dg}(\\boldsymbol{\\lambda}^{(k)})\\boldsymbol{\\delta}^{(k)}=-\\boldsymbol{Dg}(\\boldsymbol{\\lambda}^{(k)})^{T}\\cdot\\boldsymbol{g}(\\boldsymbol{\\lambda}^{(k)}) $$ für $k=0$ nach $\\boldsymbol{\\delta}^{(0)}$ auflösen.\n"
   ]
  },
  {
   "cell_type": "markdown",
   "metadata": {},
   "source": [
    "- Dafür benutzen wir aber besser die QR-Zerlegung von $\\boldsymbol{Dg}(\\boldsymbol{\\lambda}^{(0)})$, also\n",
    "$\\boldsymbol{Dg}(\\boldsymbol{\\lambda}^{(0)})=\\boldsymbol{Q}^{(0)}\\boldsymbol{R}^{(0)}$ und lösen wegen der besseren Konditionierung das äquivalente Gleichungssystem\n",
    "$$\\boldsymbol{R}^{(0)}\\boldsymbol{\\delta}^{(0)}=-\\boldsymbol{Q}^{(0)\\,T}\\boldsymbol{g}(\\boldsymbol{\\lambda}^{(0)}). $$"
   ]
  },
  {
   "cell_type": "code",
   "execution_count": 53,
   "metadata": {},
   "outputs": [
    {
     "data": {
      "text/plain": [
       "array([-0.04488169, -0.48639439,  2.12751857, -0.97041387])"
      ]
     },
     "execution_count": 53,
     "metadata": {},
     "output_type": "execute_result"
    }
   ],
   "source": [
    "k=0\n",
    "lam=np.copy(lam0)\n",
    "[Q,R] = np.linalg.qr(Dg(lam))\n",
    "delta = np.linalg.solve(R,-Q.T @ g(lam)).flatten()  # Achtung: flatten() braucht es, um aus dem Spaltenvektor delta wieder eine Liste zu machen, da g hier nicht mit Spaltenvektoren als Input umgehen kann\n",
    "delta "
   ]
  },
  {
   "cell_type": "markdown",
   "metadata": {},
   "source": [
    "- Damit können wir jetzt den ersten Schritt $\\boldsymbol{\\lambda}^{(1)}$ berechnen:\n",
    "$$\\boldsymbol{\\lambda}^{(1)} = \\boldsymbol{\\lambda}^{(0)}+\\boldsymbol{\\delta}^{(0)}$$"
   ]
  },
  {
   "cell_type": "code",
   "execution_count": 54,
   "metadata": {},
   "outputs": [
    {
     "data": {
      "text/plain": [
       "array([0.95511831, 1.51360561, 4.12751857, 0.02958613])"
      ]
     },
     "execution_count": 54,
     "metadata": {},
     "output_type": "execute_result"
    }
   ],
   "source": [
    "lam = lam+delta\n",
    "lam"
   ]
  },
  {
   "cell_type": "markdown",
   "metadata": {},
   "source": [
    "- Wie gut ist dieser Fit bereits? Wir können einerseits die Länge des \"Inkrements\" $\\boldsymbol{\\delta}^{(0)}$ berechnen und wenn dieses kleiner wird als eine vorgegebene Schwelle (z.B. tol = 1e-5) die Iteration abbrechen:\n",
    "$$ \\parallel\\boldsymbol{\\delta}^{(k)}\\parallel_{2}<TOL$$\n",
    "- Zusätzlich interessiert uns das Fehlerfunktional, welches im Idealfall ja mit jeder Iteration kleiner werden sollte:\n",
    "$$ E(\\boldsymbol{\\lambda}^{(1)})=\\parallel\\boldsymbol{g}(\\boldsymbol{\\lambda}^{(1)})\\parallel_{2}^{2}<\\parallel\\boldsymbol{g}(\\boldsymbol{\\lambda}^{(0)})\\parallel_{2}^{2}=E(\\boldsymbol{\\lambda}^{(0)}).$$"
   ]
  },
  {
   "cell_type": "code",
   "execution_count": 58,
   "metadata": {},
   "outputs": [
    {
     "data": {
      "image/png": "[encoded data removed]",
      "text/latex": [
       "$\\displaystyle 2.38885583587773$"
      ],
      "text/plain": [
       "2.3888558358777265"
      ]
     },
     "execution_count": 58,
     "metadata": {},
     "output_type": "execute_result"
    }
   ],
   "source": [
    "# Inkrement\n",
    "increment = np.linalg.norm(delta)\n",
    "increment\n"
   ]
  },
  {
   "cell_type": "code",
   "execution_count": 56,
   "metadata": {},
   "outputs": [
    {
     "data": {
      "image/png": "[encoded data removed]",
      "text/latex": [
       "$\\displaystyle 0.122838521766336$"
      ],
      "text/plain": [
       "0.12283852176633628"
      ]
     },
     "execution_count": 56,
     "metadata": {},
     "output_type": "execute_result"
    }
   ],
   "source": [
    "# Fehlerfunktional des Startvektors lam0\n",
    "err_func0 = np.linalg.norm(g(lam0))**2\n",
    "err_func0"
   ]
  },
  {
   "cell_type": "code",
   "execution_count": 57,
   "metadata": {},
   "outputs": [
    {
     "data": {
      "image/png": "[encoded data removed]",
      "text/latex": [
       "$\\displaystyle 0.11737176539513$"
      ],
      "text/plain": [
       "0.11737176539512996"
      ]
     },
     "execution_count": 57,
     "metadata": {},
     "output_type": "execute_result"
    }
   ],
   "source": [
    "# Fehlerfunktional nach der ersten Iteration\n",
    "err_func = np.linalg.norm(g(lam))**2\n",
    "err_func"
   ]
  },
  {
   "cell_type": "markdown",
   "metadata": {},
   "source": [
    "## Aufgabe b)\n",
    "Bestimmen Sie die 4 Parameter $x_{0},\\alpha,\\omega,\\varphi_{0}$ mit dem Gauss-Newton Verfahren (ohne Dämpfung) für den gleichen Startwert $\\lambda^{(0)}$ auf eine Genauigkeit von 1e-5. Plotten Sie die Messpunkte sowie Ihre Lösung für x(t) ins gleiche Grafikfenster."
   ]
  },
  {
   "cell_type": "markdown",
   "metadata": {},
   "source": [
    "- Den ersten Schritt für das ungedämpfte Gauss-Newton Verfahren haben Sie bereits gemacht. Können Sie dieses jetzt für alle weiteren Schritte implementieren? Vervollständigen Sie die untenstehende Funktion überall dort, wo ... auftritt!"
   ]
  },
  {
   "cell_type": "markdown",
   "metadata": {},
   "source": [
    "- Gauss-Newton-Verfahren mit QR-Zerlegung, aber noch ohne Dämpfung. Die Inputvariablen sind:\n",
    "    - g: die Funktion g von oben\n",
    "    - Dg: die Jacobi-Matrix\n",
    "    - lam0: der Startvektor für die Parameter\n",
    "    - tol: die Fehlerschranke\n",
    "    - max_iter: die max. Anzahl Iterationen, die durchgeführt werden sollen\n",
    "\n",
    "\n"
   ]
  },
  {
   "cell_type": "code",
   "execution_count": 65,
   "metadata": {},
   "outputs": [],
   "source": [
    "def gauss_newton(g, Dg, lam0, tol, max_iter):\n",
    "    k=0\n",
    "    lam=np.copy(lam0)\n",
    "    increment = tol+1\n",
    "    err_func = np.linalg.norm(g(lam))**2\n",
    "    \n",
    "    while err_func > tol and k < max_iter: #Hier kommt Ihre Abbruchbedingung, die tol und max_iter berücksichtigen muss# \n",
    "\n",
    "        # QR-Zerlegung von Dg(lam) und delta als Lösung des lin. Gleichungssystems\n",
    "        [Q,R] = np.linalg.qr(Dg(lam))\n",
    "        delta = np.linalg.solve(R,-Q.T @ g(lam)).flatten()  # Achtung: flatten() braucht es, um aus dem Spaltenvektor delta wieder\n",
    "                                                            # eine \"flachen\" Vektor zu machen, da g hier nicht mit Spaltenvektoren als Input umgehen kann           \n",
    "            \n",
    "        # Update des Vektors Lambda        \n",
    "        lam = lam + delta\n",
    "        err_func = np.linalg.norm(g(lam))**2\n",
    "        increment = np.linalg.norm(delta)\n",
    "        k = k+1\n",
    "        print('Iteration: ',k)\n",
    "        print('lambda = ',lam)\n",
    "        print('Inkrement = ',increment)\n",
    "        print('Fehlerfunktional =', err_func)\n",
    "    return(lam,k)"
   ]
  },
  {
   "cell_type": "code",
   "execution_count": 66,
   "metadata": {},
   "outputs": [
    {
     "name": "stdout",
     "output_type": "stream",
     "text": [
      "Iteration:  1\n",
      "lambda =  [0.95511831 1.51360561 4.12751857 0.02958613]\n",
      "Inkrement =  2.3888558358777265\n",
      "Fehlerfunktional = 0.11737176539512996\n",
      "Iteration:  2\n",
      "lambda =  [0.94903131 1.64246017 2.83165009 0.46474995]\n",
      "Inkrement =  1.3730561571200177\n",
      "Fehlerfunktional = 0.049581971842895534\n",
      "Iteration:  3\n",
      "lambda =  [0.61135825 0.59382995 3.22167066 0.65774938]\n",
      "Inkrement =  1.1844886038259876\n",
      "Fehlerfunktional = 0.029067165464907955\n",
      "Iteration:  4\n",
      "lambda =  [0.71657742 0.76871341 3.11046664 0.59709701]\n",
      "Inkrement =  0.24020895685101332\n",
      "Fehlerfunktional = 0.008490101210715794\n",
      "Iteration:  5\n",
      "lambda =  [0.73134923 0.78731385 3.068876   0.61048515]\n",
      "Inkrement =  0.04973133974995282\n",
      "Fehlerfunktional = 0.007941206414104219\n",
      "Iteration:  6\n",
      "lambda =  [0.73563357 0.79604644 3.07729169 0.60237064]\n",
      "Inkrement =  0.015207984110189343\n",
      "Fehlerfunktional = 0.007928413418662628\n",
      "Iteration:  7\n",
      "lambda =  [0.73506742 0.79565404 3.07370202 0.60483408]\n",
      "Inkrement =  0.004407811277888253\n",
      "Fehlerfunktional = 0.007927414354135756\n",
      "Iteration:  8\n",
      "lambda =  [0.73542163 0.79628134 3.07480798 0.60396093]\n",
      "Inkrement =  0.0015825633772696313\n",
      "Fehlerfunktional = 0.007927311565677416\n",
      "Iteration:  9\n",
      "lambda =  [0.73532681 0.79615349 3.07439763 0.60425917]\n",
      "Inkrement =  0.0005316759091272171\n",
      "Fehlerfunktional = 0.007927299720964596\n",
      "Iteration:  10\n",
      "lambda =  [0.73536505 0.79621477 3.07453578 0.60415436]\n",
      "Inkrement =  0.00018785787216664214\n",
      "Fehlerfunktional = 0.007927298303872406\n",
      "Iteration:  11\n",
      "lambda =  [0.73535269 0.79619653 3.07448678 0.60419067]\n",
      "Inkrement =  6.483673324762503e-05\n",
      "Fehlerfunktional = 0.007927298132718618\n",
      "Iteration:  12\n",
      "lambda =  [0.73535717 0.79620346 3.07450368 0.60417799]\n",
      "Inkrement =  2.2681527713858765e-05\n",
      "Fehlerfunktional = 0.007927298111981807\n",
      "Iteration:  13\n",
      "lambda =  [0.73535565 0.79620116 3.07449777 0.60418239]\n",
      "Inkrement =  7.879527939660281e-06\n",
      "Fehlerfunktional = 0.007927298109467556\n",
      "Iteration:  14\n",
      "lambda =  [0.73535618 0.79620198 3.07449982 0.60418086]\n",
      "Inkrement =  2.747737996664891e-06\n",
      "Fehlerfunktional = 0.007927298109162624\n",
      "Iteration:  15\n",
      "lambda =  [0.735356   0.7962017  3.07449911 0.60418139]\n",
      "Inkrement =  9.562631362906644e-07\n",
      "Fehlerfunktional = 0.007927298109125652\n",
      "Iteration:  16\n",
      "lambda =  [0.73535606 0.7962018  3.07449935 0.60418121]\n",
      "Inkrement =  3.331571399513212e-07\n",
      "Fehlerfunktional = 0.007927298109121175\n",
      "Iteration:  17\n",
      "lambda =  [0.73535604 0.79620176 3.07449927 0.60418127]\n",
      "Inkrement =  1.1600323563353037e-07\n",
      "Fehlerfunktional = 0.007927298109120622\n",
      "Iteration:  18\n",
      "lambda =  [0.73535605 0.79620177 3.0744993  0.60418125]\n",
      "Inkrement =  4.0404106851942175e-08\n",
      "Fehlerfunktional = 0.007927298109120552\n",
      "Iteration:  19\n",
      "lambda =  [0.73535605 0.79620177 3.07449929 0.60418126]\n",
      "Inkrement =  1.4070482548922933e-08\n",
      "Fehlerfunktional = 0.007927298109120549\n",
      "Iteration:  20\n",
      "lambda =  [0.73535605 0.79620177 3.07449929 0.60418125]\n",
      "Inkrement =  4.9003936139196884e-09\n",
      "Fehlerfunktional = 0.007927298109120543\n",
      "Iteration:  21\n",
      "lambda =  [0.73535605 0.79620177 3.07449929 0.60418125]\n",
      "Inkrement =  1.7066022835332339e-09\n",
      "Fehlerfunktional = 0.007927298109120543\n",
      "Iteration:  22\n",
      "lambda =  [0.73535605 0.79620177 3.07449929 0.60418125]\n",
      "Inkrement =  5.943534540611837e-10\n",
      "Fehlerfunktional = 0.007927298109120543\n",
      "Iteration:  23\n",
      "lambda =  [0.73535605 0.79620177 3.07449929 0.60418125]\n",
      "Inkrement =  2.069910938028469e-10\n",
      "Fehlerfunktional = 0.007927298109120552\n",
      "Iteration:  24\n",
      "lambda =  [0.73535605 0.79620177 3.07449929 0.60418125]\n",
      "Inkrement =  7.208730244774974e-11\n",
      "Fehlerfunktional = 0.007927298109120543\n",
      "Iteration:  25\n",
      "lambda =  [0.73535605 0.79620177 3.07449929 0.60418125]\n",
      "Inkrement =  2.510453710797854e-11\n",
      "Fehlerfunktional = 0.00792729810912054\n",
      "Iteration:  26\n",
      "lambda =  [0.73535605 0.79620177 3.07449929 0.60418125]\n",
      "Inkrement =  8.742290687562292e-12\n",
      "Fehlerfunktional = 0.007927298109120524\n",
      "Iteration:  27\n",
      "lambda =  [0.73535605 0.79620177 3.07449929 0.60418125]\n",
      "Inkrement =  3.044402710373905e-12\n",
      "Fehlerfunktional = 0.007927298109120543\n",
      "Iteration:  28\n",
      "lambda =  [0.73535605 0.79620177 3.07449929 0.60418125]\n",
      "Inkrement =  1.060716502705312e-12\n",
      "Fehlerfunktional = 0.007927298109120526\n",
      "Iteration:  29\n",
      "lambda =  [0.73535605 0.79620177 3.07449929 0.60418125]\n",
      "Inkrement =  3.6924953525010913e-13\n",
      "Fehlerfunktional = 0.007927298109120552\n",
      "Iteration:  30\n",
      "lambda =  [0.73535605 0.79620177 3.07449929 0.60418125]\n",
      "Inkrement =  1.2879871107204666e-13\n",
      "Fehlerfunktional = 0.007927298109120543\n"
     ]
    }
   ],
   "source": [
    "tol = 1e-5\n",
    "max_iter = 30\n",
    "[lam_without,n] = gauss_newton(g, Dg, lam0, tol, max_iter)\n"
   ]
  },
  {
   "cell_type": "markdown",
   "metadata": {},
   "source": [
    "- Graphische Darstellung"
   ]
  },
  {
   "cell_type": "code",
   "execution_count": 67,
   "metadata": {},
   "outputs": [
    {
     "data": {
      "image/png": "[encoded data removed]",
      "text/latex": [
       "$\\displaystyle 0.73535604695597 e^{- 0.796201770792954 t} \\sin{\\left(3.07449929018732 t + 0.604181254618331 \\right)}$"
      ],
      "text/plain": [
       "                  -0.796201770792954⋅t                                        \n",
       "0.73535604695597⋅ℯ                    ⋅sin(3.07449929018732⋅t + 0.604181254618\n",
       "\n",
       "    \n",
       "331)"
      ]
     },
     "execution_count": 67,
     "metadata": {},
     "output_type": "execute_result"
    }
   ],
   "source": [
    "t = sp.symbols('t')\n",
    "F = f(t,lam_without)\n",
    "F\n"
   ]
  },
  {
   "cell_type": "code",
   "execution_count": 68,
   "metadata": {},
   "outputs": [],
   "source": [
    "F = sp.lambdify([t],F,'numpy')\n",
    "t = np.linspace(x.min(),x.max())"
   ]
  },
  {
   "cell_type": "code",
   "execution_count": 69,
   "metadata": {
    "scrolled": true
   },
   "outputs": [
    {
     "data": {
      "image/png": "[encoded data removed]",
      "text/plain": [
       "<Figure size 640x480 with 1 Axes>"
      ]
     },
     "metadata": {},
     "output_type": "display_data"
    }
   ],
   "source": [
    "plt.plot(x,y,'o')\n",
    "plt.plot(t,F(t))\n",
    "plt.xlabel('x')\n",
    "plt.ylabel('y')\n",
    "plt.show()\n"
   ]
  },
  {
   "cell_type": "markdown",
   "metadata": {},
   "source": [
    "### Aufgabe c)\n",
    "Lösen Sie die Aufgabe b) nochmals mit dem gedämpften Gauss-Newton Verfahren."
   ]
  },
  {
   "cell_type": "markdown",
   "metadata": {},
   "source": [
    "- Gauss-Newton-Verfahren mit QR-Zerlegung, diesmal mit Dämpfung. Die Inputvariablen sind:\n",
    "    - g: die Funktion g von oben\n",
    "    - Dg: die Jacobi-Matrix\n",
    "    - lam0: der Startvektor für die Parameter\n",
    "    - tol: die Fehlerschranke\n",
    "    - max_iter: die max. Anzahl Iterationen, die durchgeführt werden sollen\n",
    "    - pmax: obere Grenze für p der Dämpfung (sieh Skript)\n",
    "    - damping: True, sofern das gedämpfte Verfahren angewendet werden soll (False, für das ungedämpfte Verfahren) \n",
    "- Füllen Sie den fehlenen Code für die Dämpfung noch aus.\n",
    "\n"
   ]
  },
  {
   "cell_type": "code",
   "execution_count": null,
   "metadata": {},
   "outputs": [],
   "source": [
    "def gauss_newton_d(g, Dg, lam0, tol, max_iter, pmax, damping):\n",
    "    k=0\n",
    "    lam=np.copy(lam0)\n",
    "    increment = tol+1\n",
    "    err_func = np.linalg.norm(g(lam))**2    \n",
    "    while err_func > tol and k < max_iter:\n",
    "        # QR-Zerlegung von Dg(lam)\n",
    "        [Q,R] = np.linalg.qr(Dg(lam))\n",
    "        delta = np.linalg.solve(R, -Q.T @ g(lam)).flatten()         # Achtung: flatten() braucht es, um aus dem Spaltenvektor delta wieder\n",
    "                                                                    # eine \"flachen\" Vektor zu machen, da g hier nicht mit Spaltenvektoren als Input umgehen kann           \n",
    "        # hier kommt die Däfmpfung, falls damping = 1\n",
    "        p=0\n",
    "        minimal_p = 0\n",
    "        minimal_err_func = err_func\n",
    "        while damping and p <= pmax: \n",
    "            lam_test = lam + delta / (2 ** p)\n",
    "            err_func_test = np.linalg.norm(g(lam_test))**2\n",
    "            if err_func_test < minimal_err_func: \n",
    "                minimal_p = p\n",
    "                minimal_err_func = err_func_test\n",
    "            p += 1\n",
    "               \n",
    "        # Update des Vektors Lambda        \n",
    "        lam = lam + (0.5**minimal_p) * delta\n",
    "\n",
    "\n",
    "        err_func = np.linalg.norm(g(lam))**2\n",
    "        increment = np.linalg.norm(delta)\n",
    "        k = k+1\n",
    "        print('Iteration: ',k)\n",
    "        print('lambda = ',lam)\n",
    "        print('Inkrement = ',increment)\n",
    "        print('Fehlerfunktional =', err_func)\n",
    "    return(lam,k)"
   ]
  },
  {
   "cell_type": "code",
   "execution_count": 82,
   "metadata": {},
   "outputs": [
    {
     "name": "stdout",
     "output_type": "stream",
     "text": [
      "Iteration:  1\n",
      "lambda =  [0.97755915 1.75680281 3.06375928 0.51479306]\n",
      "Inkrement =  2.3888558358777265\n",
      "Fehlerfunktional = 0.050920094774834314\n",
      "Iteration:  2\n",
      "lambda =  [0.73356253 0.99171381 2.92783345 0.6749507 ]\n",
      "Inkrement =  1.6601467809301247\n",
      "Fehlerfunktional = 0.016694182856749482\n",
      "Iteration:  3\n",
      "lambda =  [0.75837368 0.84530829 3.14189028 0.5573594 ]\n",
      "Inkrement =  0.2858289877900766\n",
      "Fehlerfunktional = 0.008751716322198733\n",
      "Iteration:  4\n",
      "lambda =  [0.74350734 0.81812769 3.09277864 0.59027662]\n",
      "Inkrement =  0.13349592256405649\n",
      "Fehlerfunktional = 0.008028378076497337\n",
      "Iteration:  5\n",
      "lambda =  [0.73387788 0.79541261 3.06542118 0.60998071]\n",
      "Inkrement =  0.04177778755313326\n",
      "Fehlerfunktional = 0.007938749982822936\n",
      "Iteration:  6\n",
      "lambda =  [0.73626242 0.79788356 3.07728994 0.60194314]\n",
      "Inkrement =  0.014739804081688816\n",
      "Fehlerfunktional = 0.007928624730168672\n",
      "Iteration:  7\n",
      "lambda =  [0.73568949 0.7968885  3.07536673 0.60344108]\n",
      "Inkrement =  0.005389232799593098\n",
      "Fehlerfunktional = 0.007927449020417072\n",
      "Iteration:  8\n",
      "lambda =  [0.73528664 0.79612718 3.07414967 0.6044261 ]\n",
      "Inkrement =  0.0017870090352081452\n",
      "Fehlerfunktional = 0.007927315196105626\n",
      "Iteration:  9\n",
      "lambda =  [0.73533812 0.79619291 3.07438098 0.60425995]\n",
      "Inkrement =  0.0005935739978687183\n",
      "Fehlerfunktional = 0.007927300051791967\n",
      "Iteration:  10\n",
      "lambda =  [0.73536786 0.79622317 3.0745353  0.60415258]\n",
      "Inkrement =  0.00019272565417202412\n",
      "Fehlerfunktional = 0.007927298328909583\n",
      "Iteration:  11\n",
      "lambda =  [0.73536042 0.79621045 3.07451054 0.6041718 ]\n",
      "Inkrement =  6.92714611834632e-05\n",
      "Fehlerfunktional = 0.007927298134033202\n",
      "Iteration:  12\n",
      "lambda =  [0.73535515 0.79620077 3.0744948  0.60418442]\n",
      "Inkrement =  2.2989112002351034e-05\n",
      "Fehlerfunktional = 0.007927298111947317\n",
      "Iteration:  13\n",
      "lambda =  [0.73535581 0.79620164 3.07449777 0.60418227]\n",
      "Inkrement =  7.650361640004409e-06\n",
      "Fehlerfunktional = 0.007927298109439998\n",
      "Iteration:  14\n",
      "lambda =  [0.7353562  0.79620204 3.07449976 0.60418089]\n",
      "Inkrement =  2.484147966007873e-06\n",
      "Fehlerfunktional = 0.007927298109156902\n",
      "Iteration:  15\n",
      "lambda =  [0.7353561  0.79620188 3.07449944 0.60418113]\n",
      "Inkrement =  8.912979985704985e-07\n",
      "Fehlerfunktional = 0.007927298109124641\n",
      "Iteration:  16\n",
      "lambda =  [0.73535604 0.79620176 3.07449923 0.6041813 ]\n",
      "Inkrement =  2.954461091592055e-07\n",
      "Fehlerfunktional = 0.007927298109121017\n",
      "Iteration:  17\n",
      "lambda =  [0.73535604 0.79620177 3.07449927 0.60418127]\n",
      "Inkrement =  9.856885637171073e-08\n",
      "Fehlerfunktional = 0.007927298109120582\n",
      "Iteration:  18\n",
      "lambda =  [0.73535605 0.79620177 3.0744993  0.60418125]\n",
      "Inkrement =  3.200044281331304e-08\n",
      "Fehlerfunktional = 0.00792729810912054\n",
      "Iteration:  19\n",
      "lambda =  [0.73535605 0.79620177 3.07449929 0.60418125]\n",
      "Inkrement =  1.1468957371102594e-08\n",
      "Fehlerfunktional = 0.007927298109120531\n",
      "Iteration:  20\n",
      "lambda =  [0.73535605 0.79620177 3.07449929 0.60418126]\n",
      "Inkrement =  3.79745704960799e-09\n",
      "Fehlerfunktional = 0.00792729810912054\n",
      "Iteration:  21\n",
      "lambda =  [0.73535605 0.79620177 3.07449929 0.60418125]\n",
      "Inkrement =  1.2699737151298423e-09\n",
      "Fehlerfunktional = 0.007927298109120542\n",
      "Iteration:  22\n",
      "lambda =  [0.73535605 0.79620177 3.07449929 0.60418125]\n",
      "Inkrement =  4.497701849281838e-10\n",
      "Fehlerfunktional = 0.007927298109120537\n",
      "Iteration:  23\n",
      "lambda =  [0.73535605 0.79620177 3.07449929 0.60418125]\n",
      "Inkrement =  4.308793273345441e-10\n",
      "Fehlerfunktional = 0.007927298109120547\n",
      "Iteration:  24\n",
      "lambda =  [0.73535605 0.79620177 3.07449929 0.60418125]\n",
      "Inkrement =  1.4846666519381324e-10\n",
      "Fehlerfunktional = 0.007927298109120535\n",
      "Iteration:  25\n",
      "lambda =  [0.73535605 0.79620177 3.07449929 0.60418125]\n",
      "Inkrement =  1.2341370590929726e-10\n",
      "Fehlerfunktional = 0.007927298109120526\n",
      "Iteration:  26\n",
      "lambda =  [0.73535605 0.79620177 3.07449929 0.60418125]\n",
      "Inkrement =  4.3226199950491676e-11\n",
      "Fehlerfunktional = 0.007927298109120531\n",
      "Iteration:  27\n",
      "lambda =  [0.73535605 0.79620177 3.07449929 0.60418125]\n",
      "Inkrement =  1.5006806958575348e-11\n",
      "Fehlerfunktional = 0.007927298109120547\n",
      "Iteration:  28\n",
      "lambda =  [0.73535605 0.79620177 3.07449929 0.60418125]\n",
      "Inkrement =  5.235485948654438e-12\n",
      "Fehlerfunktional = 0.007927298109120523\n",
      "Iteration:  29\n",
      "lambda =  [0.73535605 0.79620177 3.07449929 0.60418125]\n",
      "Inkrement =  3.471383072529144e-12\n",
      "Fehlerfunktional = 0.007927298109120526\n",
      "Iteration:  30\n",
      "lambda =  [0.73535605 0.79620177 3.07449929 0.60418125]\n",
      "Inkrement =  1.2080338553477623e-12\n",
      "Fehlerfunktional = 0.007927298109120543\n"
     ]
    }
   ],
   "source": [
    "tol = 1e-5\n",
    "max_iter = 30\n",
    "pmax = 5\n",
    "damping = 1\n",
    "[lam_with,n] = gauss_newton_d(g, Dg, lam0, tol, max_iter, pmax, damping)\n"
   ]
  },
  {
   "cell_type": "markdown",
   "metadata": {},
   "source": [
    "Tatsächlich wirkt sich die Dämpfung bei diesem Startvektor nicht aus. "
   ]
  },
  {
   "cell_type": "markdown",
   "metadata": {},
   "source": [
    "- Graphische Darstellung"
   ]
  },
  {
   "cell_type": "code",
   "execution_count": null,
   "metadata": {
    "scrolled": true
   },
   "outputs": [
    {
     "data": {
      "image/png": "[encoded data removed]",
      "text/latex": [
       "$\\displaystyle 0.735356046956025 e^{- 0.796201770793037 t} \\sin{\\left(3.07449929018753 t + 0.604181254618175 \\right)}$"
      ],
      "text/plain": [
       "                   -0.796201770793037⋅t                                       \n",
       "0.735356046956025⋅ℯ                    ⋅sin(3.07449929018753⋅t + 0.60418125461\n",
       "\n",
       "     \n",
       "8175)"
      ]
     },
     "execution_count": 83,
     "metadata": {},
     "output_type": "execute_result"
    }
   ],
   "source": [
    "t = sp.symbols('t')\n",
    "F = f(t,lam_with)\n",
    "F\n"
   ]
  },
  {
   "cell_type": "code",
   "execution_count": 86,
   "metadata": {},
   "outputs": [],
   "source": [
    "F = sp.lambdify([t],F,'numpy')\n",
    "t = np.linspace(x.min(),x.max())"
   ]
  },
  {
   "cell_type": "code",
   "execution_count": 87,
   "metadata": {
    "scrolled": true
   },
   "outputs": [
    {
     "data": {
      "image/png": "[encoded data removed]",
      "text/plain": [
       "<Figure size 640x480 with 1 Axes>"
      ]
     },
     "metadata": {},
     "output_type": "display_data"
    }
   ],
   "source": [
    "plt.plot(x,y,'o')\n",
    "plt.plot(t,F(t))\n",
    "plt.xlabel('x')\n",
    "plt.ylabel('y')\n",
    "plt.show()"
   ]
  },
  {
   "cell_type": "markdown",
   "metadata": {},
   "source": [
    "### Aufgabe d)\n",
    "Vergleichen Sie die Resultate aus b) und c) für einen anderen Startvektor $\\lambda^{(0)}=(2,2,2,2)^{T}$"
   ]
  },
  {
   "cell_type": "code",
   "execution_count": 89,
   "metadata": {},
   "outputs": [],
   "source": [
    "lam0_new = np.array([2, 2, 2, 2],dtype=np.float64)\n"
   ]
  },
  {
   "cell_type": "code",
   "execution_count": 91,
   "metadata": {
    "scrolled": true
   },
   "outputs": [
    {
     "name": "stdout",
     "output_type": "stream",
     "text": [
      "Iteration:  1\n",
      "lambda =  [-0.30052249  0.97347742  2.37010821  1.3359894 ]\n",
      "Inkrement =  2.63135753887307\n",
      "Fehlerfunktional = 1.4765897737540794\n",
      "Iteration:  2\n",
      "lambda =  [ 0.60133027  1.13790001 -0.10031524  3.8259477 ]\n",
      "Inkrement =  3.62536309336776\n",
      "Fehlerfunktional = 1.6583053367780816\n",
      "Iteration:  3\n",
      "lambda =  [  828.8023408    -95.5527519    150.93861428 -1122.16685165]\n",
      "Inkrement =  1409.233315823248\n",
      "Fehlerfunktional = inf\n",
      "Iteration:  4\n",
      "lambda =  [-3.41060513e-13 -9.55527519e+01  1.50938614e+02 -1.12216685e+03]\n",
      "Inkrement =  828.802340795619\n",
      "Fehlerfunktional = 1.6106813214253018e+298\n",
      "Iteration:  5\n",
      "lambda =  [ 4.54383881e-28 -9.55527519e+01  1.50938614e+02 -1.12216685e+03]\n",
      "Inkrement =  3.4110539297085283e-13\n",
      "Fehlerfunktional = 2.8588579317948124e+268\n",
      "Iteration:  6\n",
      "lambda =  [ 1.79366203e-43 -9.55527519e+01  1.50938614e+02 -1.12216685e+03]\n",
      "Inkrement =  1.7894412957709213e-15\n",
      "Fehlerfunktional = 4.454797542664544e+237\n",
      "Iteration:  7\n",
      "lambda =  [-1.59309191e-58 -9.55527519e+01  1.50938614e+02 -1.12216685e+03]\n",
      "Inkrement =  1.9537076617139703e-16\n",
      "Fehlerfunktional = 3.5142156220826913e+207\n",
      "Iteration:  8\n",
      "lambda =  [ 1.41494986e-73 -9.55527519e+01  1.50938614e+02 -1.12216685e+03]\n",
      "Inkrement =  1.9537076617139703e-16\n",
      "Fehlerfunktional = 2.772227316777973e+177\n",
      "Iteration:  9\n",
      "lambda =  [-1.25672793e-88 -9.55527519e+01  1.50938614e+02 -1.12216685e+03]\n",
      "Inkrement =  1.9537076617139703e-16\n",
      "Fehlerfunktional = 2.1869017505918884e+147\n",
      "Iteration:  10\n",
      "lambda =  [ 1.11619862e-103 -9.55527519e+001  1.50938614e+002 -1.12216685e+003]\n",
      "Inkrement =  1.9537076617139703e-16\n",
      "Fehlerfunktional = 1.7251612946013325e+117\n",
      "Iteration:  11\n",
      "lambda =  [-2.72630471e-117 -9.55527519e+001  1.50938614e+002 -1.12216685e+003]\n",
      "Inkrement =  1.343671064867291e-12\n",
      "Fehlerfunktional = 1.0291899272618105e+90\n",
      "Iteration:  12\n",
      "lambda =  [-2.08842540e-117 -9.53935780e+001  1.50656703e+002 -1.12115938e+003]\n",
      "Inkrement =  1.058215026117345\n",
      "Fehlerfunktional = 1.2628891819121234e+89\n",
      "Iteration:  13\n",
      "lambda =  [ 8.72616514e-114  1.45626431e+003  1.56307407e+004 -5.62646338e+004]\n",
      "Inkrement =  57296.10300340662\n",
      "Fehlerfunktional = 0.7606780000000002\n"
     ]
    },
    {
     "ename": "LinAlgError",
     "evalue": "Singular matrix",
     "output_type": "error",
     "traceback": [
      "\u001b[0;31m---------------------------------------------------------------------------\u001b[0m",
      "\u001b[0;31mLinAlgError\u001b[0m                               Traceback (most recent call last)",
      "Cell \u001b[0;32mIn[91], line 4\u001b[0m\n\u001b[1;32m      2\u001b[0m tol \u001b[38;5;241m=\u001b[39m \u001b[38;5;241m1e-5\u001b[39m\n\u001b[1;32m      3\u001b[0m max_iter \u001b[38;5;241m=\u001b[39m \u001b[38;5;241m30\u001b[39m\n\u001b[0;32m----> 4\u001b[0m [lam_without,n] \u001b[38;5;241m=\u001b[39m gauss_newton(g, Dg, lam0_new, tol, max_iter)\n\u001b[1;32m      5\u001b[0m t \u001b[38;5;241m=\u001b[39m sp\u001b[38;5;241m.\u001b[39msymbols(\u001b[38;5;124m'\u001b[39m\u001b[38;5;124mt\u001b[39m\u001b[38;5;124m'\u001b[39m)\n\u001b[1;32m      6\u001b[0m F \u001b[38;5;241m=\u001b[39m f(t,lam_with)\n",
      "Cell \u001b[0;32mIn[65], line 11\u001b[0m, in \u001b[0;36mgauss_newton\u001b[0;34m(g, Dg, lam0, tol, max_iter)\u001b[0m\n\u001b[1;32m      7\u001b[0m \u001b[38;5;28;01mwhile\u001b[39;00m err_func \u001b[38;5;241m>\u001b[39m tol \u001b[38;5;129;01mand\u001b[39;00m k \u001b[38;5;241m<\u001b[39m max_iter: \u001b[38;5;66;03m#Hier kommt Ihre Abbruchbedingung, die tol und max_iter berücksichtigen muss# \u001b[39;00m\n\u001b[1;32m      8\u001b[0m \n\u001b[1;32m      9\u001b[0m     \u001b[38;5;66;03m# QR-Zerlegung von Dg(lam) und delta als Lösung des lin. Gleichungssystems\u001b[39;00m\n\u001b[1;32m     10\u001b[0m     [Q,R] \u001b[38;5;241m=\u001b[39m np\u001b[38;5;241m.\u001b[39mlinalg\u001b[38;5;241m.\u001b[39mqr(Dg(lam))\n\u001b[0;32m---> 11\u001b[0m     delta \u001b[38;5;241m=\u001b[39m np\u001b[38;5;241m.\u001b[39mlinalg\u001b[38;5;241m.\u001b[39msolve(R,\u001b[38;5;241m-\u001b[39mQ\u001b[38;5;241m.\u001b[39mT \u001b[38;5;241m@\u001b[39m g(lam))\u001b[38;5;241m.\u001b[39mflatten()  \u001b[38;5;66;03m# Achtung: flatten() braucht es, um aus dem Spaltenvektor delta wieder\u001b[39;00m\n\u001b[1;32m     12\u001b[0m                                                         \u001b[38;5;66;03m# eine \"flachen\" Vektor zu machen, da g hier nicht mit Spaltenvektoren als Input umgehen kann           \u001b[39;00m\n\u001b[1;32m     13\u001b[0m         \n\u001b[1;32m     14\u001b[0m     \u001b[38;5;66;03m# Update des Vektors Lambda        \u001b[39;00m\n\u001b[1;32m     15\u001b[0m     lam \u001b[38;5;241m=\u001b[39m lam \u001b[38;5;241m+\u001b[39m delta\n",
      "File \u001b[0;32m<__array_function__ internals>:200\u001b[0m, in \u001b[0;36msolve\u001b[0;34m(*args, **kwargs)\u001b[0m\n",
      "File \u001b[0;32m~/anaconda3/lib/python3.11/site-packages/numpy/linalg/linalg.py:386\u001b[0m, in \u001b[0;36msolve\u001b[0;34m(a, b)\u001b[0m\n\u001b[1;32m    384\u001b[0m signature \u001b[38;5;241m=\u001b[39m \u001b[38;5;124m'\u001b[39m\u001b[38;5;124mDD->D\u001b[39m\u001b[38;5;124m'\u001b[39m \u001b[38;5;28;01mif\u001b[39;00m isComplexType(t) \u001b[38;5;28;01melse\u001b[39;00m \u001b[38;5;124m'\u001b[39m\u001b[38;5;124mdd->d\u001b[39m\u001b[38;5;124m'\u001b[39m\n\u001b[1;32m    385\u001b[0m extobj \u001b[38;5;241m=\u001b[39m get_linalg_error_extobj(_raise_linalgerror_singular)\n\u001b[0;32m--> 386\u001b[0m r \u001b[38;5;241m=\u001b[39m gufunc(a, b, signature\u001b[38;5;241m=\u001b[39msignature, extobj\u001b[38;5;241m=\u001b[39mextobj)\n\u001b[1;32m    388\u001b[0m \u001b[38;5;28;01mreturn\u001b[39;00m wrap(r\u001b[38;5;241m.\u001b[39mastype(result_t, copy\u001b[38;5;241m=\u001b[39m\u001b[38;5;28;01mFalse\u001b[39;00m))\n",
      "File \u001b[0;32m~/anaconda3/lib/python3.11/site-packages/numpy/linalg/linalg.py:89\u001b[0m, in \u001b[0;36m_raise_linalgerror_singular\u001b[0;34m(err, flag)\u001b[0m\n\u001b[1;32m     88\u001b[0m \u001b[38;5;28;01mdef\u001b[39;00m \u001b[38;5;21m_raise_linalgerror_singular\u001b[39m(err, flag):\n\u001b[0;32m---> 89\u001b[0m     \u001b[38;5;28;01mraise\u001b[39;00m LinAlgError(\u001b[38;5;124m\"\u001b[39m\u001b[38;5;124mSingular matrix\u001b[39m\u001b[38;5;124m\"\u001b[39m)\n",
      "\u001b[0;31mLinAlgError\u001b[0m: Singular matrix"
     ]
    }
   ],
   "source": [
    "# rufen Sie hier das Gauss-Newton Verfahren ohne Dämpfung auf\n",
    "tol = 1e-5\n",
    "max_iter = 30\n",
    "[lam_without,n] = gauss_newton(g, Dg, lam0_new, tol, max_iter)\n",
    "t = sp.symbols('t')\n",
    "F = f(t,lam_with)\n",
    "F = sp.lambdify([t],F,'numpy')\n",
    "t = np.linspace(x.min(),x.max())\n",
    "plt.plot(x,y,'o')\n",
    "plt.plot(t,F(t))\n",
    "plt.xlabel('x')\n",
    "plt.ylabel('y')\n",
    "plt.show()\n"
   ]
  },
  {
   "cell_type": "code",
   "execution_count": 96,
   "metadata": {
    "scrolled": true
   },
   "outputs": [
    {
     "name": "stdout",
     "output_type": "stream",
     "text": [
      "[2. 2. 2. 2.]\n",
      "Iteration:  1\n",
      "lambda =  [0.84973875 1.48673871 2.18505411 1.6679947 ]\n",
      "Inkrement =  2.63135753887307\n",
      "Fehlerfunktional = 0.12813271329754397\n",
      "Iteration:  2\n",
      "lambda =  [0.68297973 1.24216099 2.56663046 1.27803931]\n",
      "Inkrement =  2.482877546703216\n",
      "Fehlerfunktional = 0.08264939729054503\n",
      "Iteration:  3\n",
      "lambda =  [0.63728899 0.95888627 3.02728664 0.7418236 ]\n",
      "Inkrement =  1.5258618650176525\n",
      "Fehlerfunktional = 0.034197763596056606\n",
      "Iteration:  4\n",
      "lambda =  [0.73404152 0.7770958  3.05827498 0.58049227]\n",
      "Inkrement =  0.26343291742189584\n",
      "Fehlerfunktional = 0.008512266202189199\n",
      "Iteration:  5\n",
      "lambda =  [0.73625524 0.7972541  3.08040642 0.59970631]\n",
      "Inkrement =  0.03564039936824782\n",
      "Fehlerfunktional = 0.007932305270302193\n",
      "Iteration:  6\n",
      "lambda =  [0.73478068 0.79523109 3.07261733 0.60563549]\n",
      "Inkrement =  0.010104060957673027\n",
      "Fehlerfunktional = 0.00792786606439977\n",
      "Iteration:  7\n",
      "lambda =  [0.73515018 0.79583211 3.07390033 0.60465708]\n",
      "Inkrement =  0.003522003520423867\n",
      "Fehlerfunktional = 0.007927360092762294\n",
      "Iteration:  8\n",
      "lambda =  [0.73527837 0.79604961 3.07431298 0.60433756]\n",
      "Inkrement =  0.0011595190092437535\n",
      "Fehlerfunktional = 0.007927305245111552\n",
      "Iteration:  9\n",
      "lambda =  [0.73537073 0.79621715 3.07457481 0.60412843]\n",
      "Inkrement =  0.00038586005340419515\n",
      "Fehlerfunktional = 0.00792729890503454\n",
      "Iteration:  10\n",
      "lambda =  [0.73535975 0.79620328 3.07452489 0.60416426]\n",
      "Inkrement =  0.00012788376469415714\n",
      "Fehlerfunktional = 0.007927298200259244\n",
      "Iteration:  11\n",
      "lambda =  [0.73535348 0.79619709 3.07449155 0.60418744]\n",
      "Inkrement =  4.155048326952375e-05\n",
      "Fehlerfunktional = 0.007927298119353809\n",
      "Iteration:  12\n",
      "lambda =  [0.73535509 0.79619986 3.07449688 0.60418329]\n",
      "Inkrement =  1.4938963246037532e-05\n",
      "Fehlerfunktional = 0.007927298110288219\n",
      "Iteration:  13\n",
      "lambda =  [0.73535624 0.79620198 3.07450026 0.60418057]\n",
      "Inkrement =  4.964478998491485e-06\n",
      "Fehlerfunktional = 0.007927298109252134\n",
      "Iteration:  14\n",
      "lambda =  [0.7353561  0.7962018  3.07449962 0.60418104]\n",
      "Inkrement =  1.6475514770295773e-06\n",
      "Fehlerfunktional = 0.007927298109135502\n",
      "Iteration:  15\n",
      "lambda =  [0.73535601 0.79620171 3.07449919 0.60418133]\n",
      "Inkrement =  5.351073793260272e-07\n",
      "Fehlerfunktional = 0.00792729810912223\n",
      "Iteration:  16\n",
      "lambda =  [0.73535603 0.79620175 3.07449926 0.60418128]\n",
      "Inkrement =  1.9220579016302097e-07\n",
      "Fehlerfunktional = 0.007927298109120738\n",
      "Iteration:  17\n",
      "lambda =  [0.73535604 0.79620176 3.07449928 0.60418126]\n",
      "Inkrement =  6.378993258546444e-08\n",
      "Fehlerfunktional = 0.007927298109120566\n",
      "Iteration:  18\n",
      "lambda =  [0.73535604 0.79620177 3.07449929 0.60418126]\n",
      "Inkrement =  2.1677967881167247e-08\n",
      "Fehlerfunktional = 0.007927298109120543\n",
      "Iteration:  19\n",
      "lambda =  [0.73535605 0.79620177 3.07449929 0.60418126]\n",
      "Inkrement =  7.783625668799012e-09\n",
      "Fehlerfunktional = 0.007927298109120535\n",
      "Iteration:  20\n",
      "lambda =  [0.73535605 0.79620177 3.07449929 0.60418125]\n",
      "Inkrement =  5.4171483548090105e-09\n",
      "Fehlerfunktional = 0.007927298109120554\n",
      "Iteration:  21\n",
      "lambda =  [0.73535605 0.79620177 3.07449929 0.60418125]\n",
      "Inkrement =  1.5071899377827076e-09\n",
      "Fehlerfunktional = 0.00792729810912054\n",
      "Iteration:  22\n",
      "lambda =  [0.73535605 0.79620177 3.07449929 0.60418125]\n",
      "Inkrement =  5.272791995474389e-10\n",
      "Fehlerfunktional = 0.007927298109120531\n",
      "Iteration:  23\n",
      "lambda =  [0.73535605 0.79620177 3.07449929 0.60418125]\n",
      "Inkrement =  1.8792475304247206e-10\n",
      "Fehlerfunktional = 0.00792729810912053\n",
      "Iteration:  24\n",
      "lambda =  [0.73535605 0.79620177 3.07449929 0.60418125]\n",
      "Inkrement =  1.7288404775130824e-10\n",
      "Fehlerfunktional = 0.007927298109120537\n",
      "Iteration:  25\n",
      "lambda =  [0.73535605 0.79620177 3.07449929 0.60418125]\n",
      "Inkrement =  5.3884726076410854e-11\n",
      "Fehlerfunktional = 0.00792729810912053\n",
      "Iteration:  26\n",
      "lambda =  [0.73535605 0.79620177 3.07449929 0.60418125]\n",
      "Inkrement =  1.9404165737803378e-11\n",
      "Fehlerfunktional = 0.007927298109120526\n",
      "Iteration:  27\n",
      "lambda =  [0.73535605 0.79620177 3.07449929 0.60418125]\n",
      "Inkrement =  1.616485520034306e-11\n",
      "Fehlerfunktional = 0.007927298109120547\n",
      "Iteration:  28\n",
      "lambda =  [0.73535605 0.79620177 3.07449929 0.60418125]\n",
      "Inkrement =  5.468805125458593e-12\n",
      "Fehlerfunktional = 0.00792729810912054\n",
      "Iteration:  29\n",
      "lambda =  [0.73535605 0.79620177 3.07449929 0.60418125]\n",
      "Inkrement =  5.005891635803146e-12\n",
      "Fehlerfunktional = 0.007927298109120535\n",
      "Iteration:  30\n",
      "lambda =  [0.73535605 0.79620177 3.07449929 0.60418125]\n",
      "Inkrement =  4.583522888969638e-12\n",
      "Fehlerfunktional = 0.007927298109120535\n"
     ]
    },
    {
     "data": {
      "image/png": "[encoded data removed]",
      "text/plain": [
       "<Figure size 640x480 with 1 Axes>"
      ]
     },
     "metadata": {},
     "output_type": "display_data"
    }
   ],
   "source": [
    "# rufen Sie hier das Gauss-Newton Verfahren mit Dämpfung auf\n",
    "tol = 1e-5\n",
    "max_iter = 30\n",
    "pmax = 5\n",
    "damping = 1\n",
    "[lam_with,n] = gauss_newton_d(g, Dg, lam0_new, tol, max_iter, pmax, damping)\n",
    "t = sp.symbols('t')\n",
    "F = f(t,lam_with)\n",
    "F = sp.lambdify([t],F,'numpy')\n",
    "t = np.linspace(x.min(),x.max())\n",
    "plt.plot(x,y,'o')\n",
    "plt.plot(t,F(t))\n",
    "plt.xlabel('x')\n",
    "plt.ylabel('y')\n",
    "plt.show()"
   ]
  },
  {
   "cell_type": "markdown",
   "metadata": {},
   "source": [
    "Man sieht: für diesen neuen Startvektor divergiert das Gauss-Newton Verfahren ohne Dämpfung, während es mit Dämpfung  konvergiert."
   ]
  },
  {
   "cell_type": "markdown",
   "metadata": {},
   "source": [
    "### Aufgabe e)\n",
    "Probieren Sie die Python-Funktion scypy.optimize.fmin() (siehe [Online-Dokumentation](https://docs.scipy.org/doc/scipy/reference/generated/scipy.optimize.fmin.html), indem Sie damit direkt das Minimum des Fehlerfunktionals suchen, und vergleichen Sie mit Ihrer Lösung aus d)."
   ]
  },
  {
   "cell_type": "code",
   "execution_count": 101,
   "metadata": {},
   "outputs": [
    {
     "name": "stdout",
     "output_type": "stream",
     "text": [
      "Optimization terminated successfully.\n",
      "         Current function value: 0.007927\n",
      "         Iterations: 151\n",
      "         Function evaluations: 258\n"
     ]
    },
    {
     "data": {
      "text/plain": [
       "array([0.73534956, 0.79616979, 3.0745151 , 0.6041771 ])"
      ]
     },
     "execution_count": 101,
     "metadata": {},
     "output_type": "execute_result"
    }
   ],
   "source": [
    "import scipy.optimize\n",
    "\n",
    "def err_func(x):\n",
    "    return np.linalg.norm(g(x))**2\n",
    "\n",
    "xopt = scipy.optimize.fmin(err_func, lam0_new)\n",
    "\n",
    "xopt"
   ]
  },
  {
   "cell_type": "code",
   "execution_count": null,
   "metadata": {},
   "outputs": [],
   "source": []
  }
 ],
 "metadata": {
  "kernelspec": {
   "display_name": "base",
   "language": "python",
   "name": "python3"
  },
  "language_info": {
   "codemirror_mode": {
    "name": "ipython",
    "version": 3
   },
   "file_extension": ".py",
   "mimetype": "text/x-python",
   "name": "python",
   "nbconvert_exporter": "python",
   "pygments_lexer": "ipython3",
   "version": "3.11.4"
  }
 },
 "nbformat": 4,
 "nbformat_minor": 2
}
